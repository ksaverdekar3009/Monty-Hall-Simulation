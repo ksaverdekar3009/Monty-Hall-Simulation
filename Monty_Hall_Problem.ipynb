{
  "nbformat": 4,
  "nbformat_minor": 0,
  "metadata": {
    "colab": {
      "provenance": [],
      "authorship_tag": "ABX9TyOE+cCAyxEEoaUYoJ/w43vB",
      "include_colab_link": true
    },
    "kernelspec": {
      "name": "python3",
      "display_name": "Python 3"
    },
    "language_info": {
      "name": "python"
    }
  },
  "cells": [
    {
      "cell_type": "markdown",
      "metadata": {
        "id": "view-in-github",
        "colab_type": "text"
      },
      "source": [
        "<a href=\"https://colab.research.google.com/github/ksaverdekar3009/Monty-Hall-Simulation/blob/main/Monty_Hall_Problem.ipynb\" target=\"_parent\"><img src=\"https://colab.research.google.com/assets/colab-badge.svg\" alt=\"Open In Colab\"/></a>"
      ]
    },
    {
      "cell_type": "code",
      "source": [
        "import random"
      ],
      "metadata": {
        "id": "koxRnvC1tENC"
      },
      "execution_count": 49,
      "outputs": []
    },
    {
      "cell_type": "code",
      "source": [
        "def simulate_monty_hall(num_trials, switch):\n",
        "    wins = 0\n",
        "    for _ in range(num_trials):\n",
        "        # Randomly place the prize behind one of the three doors\n",
        "        prize_door = random.randint(0, 2)\n",
        "        # Contestant makes an initial choice\n",
        "        contestant_choice = random.randint(0, 2)\n",
        "        # Host opens a door that is neither the contestant's choice nor the prize door\n",
        "        remaining_doors = [door for door in range(3) if door != contestant_choice and door != prize_door]\n",
        "        if remaining_doors:\n",
        "            host_opens = random.choice(remaining_doors)\n",
        "        else:\n",
        "            host_opens = random.choice([door for door in range(3) if door != contestant_choice])\n",
        "        # If the contestant switches, they pick the remaining unopened door\n",
        "        if switch:\n",
        "            contestant_choice = next(door for door in range(3) if door != contestant_choice and door != host_opens)\n",
        "        # Check if the contestant's final choice is the prize door\n",
        "        if contestant_choice == prize_door:\n",
        "            wins += 1\n",
        "    return wins"
      ],
      "metadata": {
        "id": "rJtOZONu2qvT"
      },
      "execution_count": 69,
      "outputs": []
    },
    {
      "cell_type": "code",
      "source": [
        "# Number of simulations\n",
        "num_trials = 10000"
      ],
      "metadata": {
        "id": "0Urqy2yD2s4N"
      },
      "execution_count": 59,
      "outputs": []
    },
    {
      "cell_type": "code",
      "source": [
        "# Simulate always switching\n",
        "switch_wins = simulate_monty_hall(num_trials, switch=True)\n",
        "switch_win_rate = (switch_wins / num_trials) * 100"
      ],
      "metadata": {
        "id": "7txx97bE2yTg"
      },
      "execution_count": 73,
      "outputs": []
    },
    {
      "cell_type": "code",
      "source": [
        "# Simulate always staying\n",
        "stay_wins = simulate_monty_hall(num_trials, switch=False)\n",
        "stay_win_rate = (stay_wins / num_trials) * 100"
      ],
      "metadata": {
        "id": "-fTqS1kd22X-"
      },
      "execution_count": 71,
      "outputs": []
    },
    {
      "cell_type": "code",
      "source": [
        "# Display results\n",
        "print(f\"Win rate when switching: {switch_win_rate:.2f}%\")\n",
        "print(f\"Win rate when staying: {stay_win_rate:.2f}%\")"
      ],
      "metadata": {
        "colab": {
          "base_uri": "https://localhost:8080/"
        },
        "id": "MpHtPHvR27vn",
        "outputId": "59ec5562-b890-4251-f3fb-3acdb205eee7"
      },
      "execution_count": 74,
      "outputs": [
        {
          "output_type": "stream",
          "name": "stdout",
          "text": [
            "Win rate when switching: 67.05%\n",
            "Win rate when staying: 33.66%\n"
          ]
        }
      ]
    }
  ]
}